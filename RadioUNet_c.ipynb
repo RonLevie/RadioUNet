{
 "cells": [
  {
   "cell_type": "code",
   "execution_count": 1,
   "metadata": {},
   "outputs": [],
   "source": [
    "from __future__ import print_function, division\n",
    "import os\n",
    "import torch\n",
    "import pandas as pd\n",
    "from skimage import io, transform\n",
    "import numpy as np\n",
    "import matplotlib.pyplot as plt\n",
    "from torch.utils.data import Dataset, DataLoader\n",
    "from torchvision import transforms, utils, datasets, models\n",
    "\n",
    "# Ignore warnings\n",
    "import warnings\n",
    "warnings.filterwarnings(\"ignore\")\n",
    "import os\n",
    "os.environ[\"CUDA_DEVICE_ORDER\"]=\"PCI_BUS_ID\"   # see issue #152\n",
    "os.environ[\"CUDA_VISIBLE_DEVICES\"]=\"2\""
   ]
  },
  {
   "cell_type": "code",
   "execution_count": 2,
   "metadata": {},
   "outputs": [],
   "source": [
    "from lib import RadioUNet_modules, RadioUNet_loaders"
   ]
  },
  {
   "cell_type": "markdown",
   "metadata": {},
   "source": [
    "## Dataset Loader"
   ]
  },
  {
   "cell_type": "code",
   "execution_count": 3,
   "metadata": {},
   "outputs": [],
   "source": [
    "maps_inds=np.arange(0,493,1,dtype=np.int16)\n",
    "#Determenistic \"random\" shuffle of the maps:\n",
    "np.random.seed(42)\n",
    "np.random.shuffle(maps_inds)\n",
    "\n",
    "trans = transforms.ToTensor()\n",
    "\n",
    "Radio_train = RadioUNet_loaders.RadioUNet_dataset_c(maps_inds,0,250,csv_file='dataset/database.csv',\n",
    "                                    root_dir_buildings='dataset/png/buildingsN/',\n",
    "                                    root_dir_antenna='dataset/png/antenna/',\n",
    "                                    root_dir_gain='dataset/png/gain/',transform = trans)\n",
    "Radio_val = RadioUNet_loaders.RadioUNet_dataset_c(maps_inds,251,390,csv_file='dataset/database.csv',\n",
    "                                    root_dir_buildings='dataset/png/buildingsN/',\n",
    "                                    root_dir_antenna='dataset/png/antenna/',\n",
    "                                    root_dir_gain='dataset/png/gain/',transform = trans)\n",
    "Radio_test = RadioUNet_loaders.RadioUNet_dataset_c(maps_inds,391,494,csv_file='dataset/database.csv',\n",
    "                                    root_dir_buildings='dataset/png/buildingsN/',\n",
    "                                    root_dir_antenna='dataset/png/antenna/',\n",
    "                                    root_dir_gain='dataset/png/gain/',transform = trans)\n",
    "\n",
    "image_datasets = {\n",
    "    'train': Radio_train, 'val': Radio_val\n",
    "}\n",
    "\n",
    "batch_size = 15\n",
    "\n",
    "dataloaders = {\n",
    "    'train': DataLoader(Radio_train, batch_size=batch_size, shuffle=True, num_workers=1),\n",
    "    'val': DataLoader(Radio_val, batch_size=batch_size, shuffle=True, num_workers=1)\n",
    "}\n"
   ]
  },
  {
   "cell_type": "markdown",
   "metadata": {},
   "source": [
    "## Test Sample Image"
   ]
  },
  {
   "cell_type": "code",
   "execution_count": 4,
   "metadata": {},
   "outputs": [
    {
     "data": {
      "text/plain": [
       "<matplotlib.image.AxesImage at 0x2ad653be3e10>"
      ]
     },
     "execution_count": 4,
     "metadata": {},
     "output_type": "execute_result"
    },
    {
     "data": {
      "image/png": "[encoded data removed]",
      "text/plain": [
       "<Figure size 432x288 with 1 Axes>"
      ]
     },
     "metadata": {
      "needs_background": "light"
     },
     "output_type": "display_data"
    }
   ],
   "source": [
    "i=146\n",
    "image_build_ant, image_gain = Radio_val[i]\n",
    "plt.imshow(image_gain[0])"
   ]
  },
  {
   "cell_type": "markdown",
   "metadata": {},
   "source": [
    "## Model Summary"
   ]
  },
  {
   "cell_type": "code",
   "execution_count": 5,
   "metadata": {},
   "outputs": [
    {
     "name": "stdout",
     "output_type": "stream",
     "text": [
      "----------------------------------------------------------------\n",
      "        Layer (type)               Output Shape         Param #\n",
      "================================================================\n",
      "            Conv2d-1          [-1, 6, 256, 256]             114\n",
      "              ReLU-2          [-1, 6, 256, 256]               0\n",
      "         MaxPool2d-3          [-1, 6, 256, 256]               0\n",
      "            Conv2d-4         [-1, 40, 256, 256]           6,040\n",
      "              ReLU-5         [-1, 40, 256, 256]               0\n",
      "         MaxPool2d-6         [-1, 40, 128, 128]               0\n",
      "            Conv2d-7         [-1, 50, 128, 128]          50,050\n",
      "              ReLU-8         [-1, 50, 128, 128]               0\n",
      "         MaxPool2d-9           [-1, 50, 64, 64]               0\n",
      "           Conv2d-10           [-1, 60, 64, 64]          75,060\n",
      "             ReLU-11           [-1, 60, 64, 64]               0\n",
      "        MaxPool2d-12           [-1, 60, 64, 64]               0\n",
      "           Conv2d-13          [-1, 100, 64, 64]         150,100\n",
      "             ReLU-14          [-1, 100, 64, 64]               0\n",
      "        MaxPool2d-15          [-1, 100, 32, 32]               0\n",
      "           Conv2d-16          [-1, 100, 32, 32]          90,100\n",
      "             ReLU-17          [-1, 100, 32, 32]               0\n",
      "        MaxPool2d-18          [-1, 100, 32, 32]               0\n",
      "           Conv2d-19          [-1, 150, 32, 32]         375,150\n",
      "             ReLU-20          [-1, 150, 32, 32]               0\n",
      "        MaxPool2d-21          [-1, 150, 16, 16]               0\n",
      "           Conv2d-22          [-1, 300, 16, 16]       1,125,300\n",
      "             ReLU-23          [-1, 300, 16, 16]               0\n",
      "        MaxPool2d-24            [-1, 300, 8, 8]               0\n",
      "  ConvTranspose2d-25          [-1, 150, 16, 16]         720,150\n",
      "             ReLU-26          [-1, 150, 16, 16]               0\n",
      "  ConvTranspose2d-27          [-1, 100, 32, 32]         480,100\n",
      "             ReLU-28          [-1, 100, 32, 32]               0\n",
      "           Conv2d-29          [-1, 100, 32, 32]         180,100\n",
      "             ReLU-30          [-1, 100, 32, 32]               0\n",
      "        MaxPool2d-31          [-1, 100, 32, 32]               0\n",
      "  ConvTranspose2d-32           [-1, 60, 64, 64]         432,060\n",
      "             ReLU-33           [-1, 60, 64, 64]               0\n",
      "           Conv2d-34           [-1, 50, 64, 64]         150,050\n",
      "             ReLU-35           [-1, 50, 64, 64]               0\n",
      "        MaxPool2d-36           [-1, 50, 64, 64]               0\n",
      "  ConvTranspose2d-37         [-1, 40, 128, 128]         144,040\n",
      "             ReLU-38         [-1, 40, 128, 128]               0\n",
      "  ConvTranspose2d-39         [-1, 20, 256, 256]          57,620\n",
      "             ReLU-40         [-1, 20, 256, 256]               0\n",
      "           Conv2d-41          [-1, 1, 256, 256]             253\n",
      "             ReLU-42          [-1, 1, 256, 256]               0\n",
      "        MaxPool2d-43          [-1, 1, 256, 256]               0\n",
      "================================================================\n",
      "Total params: 4,036,287\n",
      "Trainable params: 4,036,287\n",
      "Non-trainable params: 0\n",
      "----------------------------------------------------------------\n",
      "Input size (MB): 0.50\n",
      "Forward/backward pass size (MB): 131.45\n",
      "Params size (MB): 15.40\n",
      "Estimated Total Size (MB): 147.34\n",
      "----------------------------------------------------------------\n"
     ]
    }
   ],
   "source": [
    "from torchsummary import summary\n",
    "\n",
    "torch.set_default_dtype(torch.float32)\n",
    "torch.set_default_tensor_type('torch.cuda.FloatTensor')\n",
    "torch.backends.cudnn.enabled\n",
    "model =RadioUNet_modules.RadioUNet_module_c()\n",
    "model.cuda()\n",
    "summary(model, input_size=(2, 256,256))"
   ]
  },
  {
   "cell_type": "markdown",
   "metadata": {},
   "source": [
    "## Training Loop"
   ]
  },
  {
   "cell_type": "code",
   "execution_count": 6,
   "metadata": {},
   "outputs": [],
   "source": [
    "#Adapted from https://github.com/usuyama/pytorch-unet\n",
    "\n",
    "import torch\n",
    "import torch.optim as optim\n",
    "from torch.optim import lr_scheduler\n",
    "import time\n",
    "import copy\n",
    "from collections import defaultdict\n",
    "import torch.nn.functional as F\n",
    "import torch.nn as nn\n",
    "\n",
    "def calc_loss(pred, target, metrics):\n",
    "    criterion = nn.MSELoss()\n",
    "    loss = criterion(pred, target)\n",
    "    metrics['loss'] += loss.data.cpu().numpy() * target.size(0)\n",
    "\n",
    "    return loss\n",
    "\n",
    "def print_metrics(metrics, epoch_samples, phase):\n",
    "    outputs = []\n",
    "    for k in metrics.keys():\n",
    "        outputs.append(\"{}: {:4f}\".format(k, metrics[k] / epoch_samples))\n",
    "\n",
    "    print(\"{}: {}\".format(phase, \", \".join(outputs)))\n",
    "\n",
    "def train_model(model, optimizer, scheduler, num_epochs=20):\n",
    "    best_model_wts = copy.deepcopy(model.state_dict())\n",
    "    best_loss = 1e10\n",
    "\n",
    "    for epoch in range(num_epochs):\n",
    "        print('Epoch {}/{}'.format(epoch, num_epochs - 1))\n",
    "        print('-' * 10)\n",
    "\n",
    "        since = time.time()\n",
    "\n",
    "        # Each epoch has a training and validation phase\n",
    "        for phase in ['train', 'val']:\n",
    "            if phase == 'train':\n",
    "                scheduler.step()\n",
    "                for param_group in optimizer.param_groups:\n",
    "                    print(\"learning rate\", param_group['lr'])\n",
    "\n",
    "                model.train()  # Set model to training mode\n",
    "            else:\n",
    "                model.eval()   # Set model to evaluate mode\n",
    "\n",
    "            metrics = defaultdict(float)\n",
    "            epoch_samples = 0\n",
    "\n",
    "            for inputs, targets in dataloaders[phase]:\n",
    "                inputs = inputs.to(device)\n",
    "                targets = targets.to(device)\n",
    "\n",
    "                # zero the parameter gradients\n",
    "                optimizer.zero_grad()\n",
    "\n",
    "                # forward\n",
    "                # track history if only in train\n",
    "                with torch.set_grad_enabled(phase == 'train'):\n",
    "                    outputs = model(inputs)\n",
    "                    loss = calc_loss(outputs, targets, metrics)\n",
    "\n",
    "                    # backward + optimize only if in training phase\n",
    "                    if phase == 'train':\n",
    "                        loss.backward()\n",
    "                        optimizer.step()\n",
    "\n",
    "                # statistics\n",
    "                epoch_samples += inputs.size(0)\n",
    "\n",
    "            print_metrics(metrics, epoch_samples, phase)\n",
    "            epoch_loss = metrics['loss'] / epoch_samples\n",
    "\n",
    "            # deep copy the model\n",
    "            if phase == 'val' and epoch_loss < best_loss:\n",
    "                print(\"saving best model\")\n",
    "                best_loss = epoch_loss\n",
    "                best_model_wts = copy.deepcopy(model.state_dict())\n",
    "\n",
    "        time_elapsed = time.time() - since\n",
    "        print('{:.0f}m {:.0f}s'.format(time_elapsed // 60, time_elapsed % 60))\n",
    "\n",
    "    print('Best val loss: {:4f}'.format(best_loss))\n",
    "\n",
    "    # load best model weights\n",
    "    model.load_state_dict(best_model_wts)\n",
    "    return model"
   ]
  },
  {
   "cell_type": "markdown",
   "metadata": {},
   "source": [
    "## Training"
   ]
  },
  {
   "cell_type": "code",
   "execution_count": null,
   "metadata": {},
   "outputs": [
    {
     "name": "stdout",
     "output_type": "stream",
     "text": [
      "cuda:0\n",
      "Epoch 0/34\n",
      "----------\n",
      "learning rate 0.0001\n",
      "train: loss: 0.010000\n",
      "val: loss: 0.003154\n",
      "saving best model\n",
      "8m 20s\n",
      "Epoch 1/34\n",
      "----------\n",
      "learning rate 0.0001\n",
      "train: loss: 0.002341\n",
      "val: loss: 0.002242\n",
      "saving best model\n",
      "8m 22s\n",
      "Epoch 2/34\n",
      "----------\n",
      "learning rate 0.0001\n",
      "train: loss: 0.001763\n",
      "val: loss: 0.001757\n",
      "saving best model\n",
      "8m 22s\n",
      "Epoch 3/34\n",
      "----------\n",
      "learning rate 0.0001\n",
      "train: loss: 0.001552\n",
      "val: loss: 0.001593\n",
      "saving best model\n",
      "8m 22s\n",
      "Epoch 4/34\n",
      "----------\n",
      "learning rate 0.0001\n",
      "train: loss: 0.001425\n",
      "val: loss: 0.001486\n",
      "saving best model\n",
      "8m 22s\n",
      "Epoch 5/34\n",
      "----------\n",
      "learning rate 0.0001\n",
      "train: loss: 0.001332\n",
      "val: loss: 0.001661\n",
      "8m 22s\n",
      "Epoch 6/34\n",
      "----------\n",
      "learning rate 0.0001\n"
     ]
    }
   ],
   "source": [
    "import torch\n",
    "import torch.optim as optim\n",
    "from torch.optim import lr_scheduler\n",
    "import time\n",
    "import copy\n",
    "\n",
    "device = torch.device(\"cuda:0\" if torch.cuda.is_available() else \"cpu\")\n",
    "print(device)\n",
    "\n",
    "\n",
    "optimizer_ft = optim.Adam(filter(lambda p: p.requires_grad, model.parameters()), lr=1e-4)\n",
    "\n",
    "exp_lr_scheduler = lr_scheduler.StepLR(optimizer_ft, step_size=30, gamma=0.1)\n",
    "\n",
    "model = train_model(model, optimizer_ft, exp_lr_scheduler,  num_epochs=35) #num_epochs=35"
   ]
  },
  {
   "cell_type": "markdown",
   "metadata": {},
   "source": [
    "## Test Example"
   ]
  },
  {
   "cell_type": "code",
   "execution_count": null,
   "metadata": {},
   "outputs": [],
   "source": [
    "test_loader = DataLoader(Radio_test, batch_size=1, shuffle=True, num_workers=0)\n",
    "inputs, target = next(iter(test_loader))\n",
    "inputs = inputs.to(device)\n",
    "target = target.to(device)\n",
    "pred = model(inputs)\n",
    "pred = (pred.detach().cpu().numpy() * 255).astype(np.uint8)"
   ]
  },
  {
   "cell_type": "markdown",
   "metadata": {},
   "source": [
    "### Prediction:"
   ]
  },
  {
   "cell_type": "code",
   "execution_count": null,
   "metadata": {},
   "outputs": [],
   "source": [
    "plt.imshow(pred[0][0])"
   ]
  },
  {
   "cell_type": "markdown",
   "metadata": {},
   "source": [
    "### Ground truth:"
   ]
  },
  {
   "cell_type": "code",
   "execution_count": null,
   "metadata": {},
   "outputs": [],
   "source": [
    "Gtruth = (target.detach().cpu().numpy() * 255).astype(np.uint8)\n",
    "print(Gtruth.shape)\n",
    "plt.imshow(Gtruth[0][0])\n"
   ]
  },
  {
   "cell_type": "markdown",
   "metadata": {},
   "source": [
    "## Save Model For Inference"
   ]
  },
  {
   "cell_type": "code",
   "execution_count": null,
   "metadata": {},
   "outputs": [],
   "source": [
    "torch.save(model.state_dict(), 'Trained_Model_RadioUNet_c.pt')"
   ]
  },
  {
   "cell_type": "markdown",
   "metadata": {},
   "source": [
    "## Load Model For Inference"
   ]
  },
  {
   "cell_type": "code",
   "execution_count": null,
   "metadata": {},
   "outputs": [],
   "source": [
    "device = torch.device('cuda' if torch.cuda.is_available() else 'cpu')\n",
    "model = RadioUNet_modules.RadioUNet_module_c()\n",
    "model.load_state_dict(torch.load('Trained_Model_RadioUNet_c.pt'))\n",
    "model.to(device)"
   ]
  }
 ],
 "metadata": {
  "kernelspec": {
   "display_name": "Python 3",
   "language": "python",
   "name": "python3"
  },
  "language_info": {
   "codemirror_mode": {
    "name": "ipython",
    "version": 3
   },
   "file_extension": ".py",
   "mimetype": "text/x-python",
   "name": "python",
   "nbconvert_exporter": "python",
   "pygments_lexer": "ipython3",
   "version": "3.7.4"
  }
 },
 "nbformat": 4,
 "nbformat_minor": 2
}
